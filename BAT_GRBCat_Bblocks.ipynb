{
 "cells": [
  {
   "cell_type": "markdown",
   "metadata": {},
   "source": [
    "# Lightcurves are downloaded from the Swift GRB catalog"
   ]
  },
  {
   "cell_type": "markdown",
   "metadata": {},
   "source": [
    "https://swift.gsfc.nasa.gov/results/batgrbcat/\n",
    "\n",
    "Authors: Vikas Chand, Partha S. Pal, Dimple"
   ]
  },
  {
   "cell_type": "code",
   "execution_count": 1,
   "metadata": {},
   "outputs": [],
   "source": [
    "from astropy.io import ascii\n",
    "import numpy as np\n",
    "import matplotlib.pyplot as plt\n",
    "from astropy.stats import bayesian_blocks"
   ]
  },
  {
   "cell_type": "markdown",
   "metadata": {},
   "source": [
    "# Create Bayesian Blocks"
   ]
  },
  {
   "cell_type": "code",
   "execution_count": 2,
   "metadata": {},
   "outputs": [],
   "source": [
    "# Create Bayesian blocks\n",
    "\n",
    "def BAT_bblocks(a, b, c):\n",
    "    \n",
    "    index=np.argsort(a)\n",
    "    \n",
    "    # Bayesian blocks\n",
    "    a1,b1 ,c1  = a[index], b[index], c[index]\n",
    "    c1[(c1 == 0)] = np.min(c1[(c1 != 0)]) # replace sigma = 0 with minimum error observed \n",
    "    \n",
    "    edges = bayesian_blocks(a1, b1, sigma=(c1)/2, fitness='measures', p0=0.01)\n",
    "    x = (edges[1:]+edges[:-1])/2\n",
    "    \n",
    "    # Plot Bayesian blocks\n",
    "    \n",
    "    aflx = []\n",
    "    for i1 in range(0, len(x)):\n",
    "        xx = []\n",
    "        for ii in range(0, len(a1)):\n",
    "            if (a1[ii] >= edges[i1]) & (a1[ii] <= edges[i1+1]):\n",
    "                xx.append(b1[ii])\n",
    "        aflx.append(np.mean(xx))\n",
    "        \n",
    "    return np.array(edges), np.array(aflx)\n"
   ]
  },
  {
   "cell_type": "markdown",
   "metadata": {},
   "source": [
    "# Plot Lightcurves"
   ]
  },
  {
   "cell_type": "code",
   "execution_count": 5,
   "metadata": {},
   "outputs": [],
   "source": [
    "def plot_LC(grbname, binsize, xl, xu):\n",
    "    binsize = str(binsize)+'ms'\n",
    "    GRB1 = ascii.read(grbname+\"_\"+binsize+\"_lc_ascii.dat.txt\")\n",
    "    times_GRB1, LC1_GRB1, LC1_GRB1_err, LC2_GRB1, LC2_GRB1_err, LC3_GRB1, LC3_GRB1_err, LC4_GRB1, LC4_GRB1_err = np.array(GRB1['col1']), np.array(GRB1['col2']), np.array(GRB1['col3']), np.array(GRB1['col4']), np.array(GRB1['col5']), np.array(GRB1['col6']), np.array(GRB1['col7']), np.array(GRB1['col8']), np.array(GRB1['col9'])\n",
    "    \n",
    "    max_counts = max(np.max(LC1_GRB1), np.max(LC2_GRB1), np.max(LC3_GRB1), np.max(LC4_GRB1)) + 0.05\n",
    "    #print(max_counts)\n",
    "    \n",
    "    edges1, aflx1 = BAT_bblocks(times_GRB1, LC1_GRB1, LC1_GRB1_err)\n",
    "    edges2, aflx2 = BAT_bblocks(times_GRB1, LC2_GRB1, LC2_GRB1_err)\n",
    "    edges3, aflx3 = BAT_bblocks(times_GRB1, LC3_GRB1, LC3_GRB1_err)\n",
    "    edges4, aflx4 = BAT_bblocks(times_GRB1, LC4_GRB1, LC4_GRB1_err)\n",
    "    \n",
    "    \n",
    "    \n",
    "    \n",
    "    plt.figure()\n",
    "    ax1 = plt.subplot(1, 1, 1)\n",
    "    ax1.errorbar(times_GRB1, 4*max_counts+LC4_GRB1, yerr=4*LC4_GRB1_err, ds='steps-post', ls='-', color='b', alpha=0.5, zorder=1)\n",
    "    ax1.plot(edges4, 4*max_counts+np.append(aflx4, aflx4[-1]), ds='steps-post',color='k',linewidth=2, zorder=2)\n",
    "    \n",
    "    \n",
    "    ax1.errorbar(times_GRB1, 3*max_counts+LC3_GRB1, yerr=3*LC3_GRB1_err, ds='steps-post', ls='-', color='g', alpha=0.5, zorder=1)\n",
    "    ax1.plot(edges3, 3*max_counts+np.append(aflx3, aflx3[-1]), ds='steps-post',color='k',linewidth=2, zorder=2)\n",
    "    \n",
    "    \n",
    "    ax1.errorbar(times_GRB1, 2*max_counts+LC2_GRB1, yerr=2*LC2_GRB1_err, ds='steps-post', ls='-', color='y', alpha=0.5, zorder=1)\n",
    "    ax1.plot(edges2, 2*max_counts+np.append(aflx2, aflx2[-1]), ds='steps-post',color='k',linewidth=2, zorder=2)\n",
    "    \n",
    "    \n",
    "    ax1.errorbar(times_GRB1, max_counts+LC1_GRB1, yerr=LC1_GRB1_err, ds='steps-post', ls='-', color='r', alpha=0.5, zorder=1)\n",
    "    ax1.plot(edges1, max_counts+np.append(aflx1, aflx1[-1]), ds='steps-post',color='k',linewidth=2, zorder=2)\n",
    "    \n",
    "    ax1.set_title('GRB '+GRB_name[3:])\n",
    "    ax1.set_xlabel('Time since BAT Triggertime')\n",
    "    ax1.set_ylabel(r'$counts~s^{-1}~det^{-1}$ (scaled)')\n",
    "    ax1.set_xlim(xl, xu)\n",
    "    #plt.legend(loc='best')\n",
    "    plt.tight_layout()\n",
    "    plt.savefig(grbname+'.pdf', format='pdf')\n",
    "    return times_GRB1, LC1_GRB1, LC1_GRB1_err, LC2_GRB1, LC2_GRB1_err, LC3_GRB1, LC3_GRB1_err, LC4_GRB1, LC4_GRB1_err\n"
   ]
  },
  {
   "cell_type": "code",
   "execution_count": 6,
   "metadata": {},
   "outputs": [
    {
     "data": {
      "text/plain": [
       "(array([-239.048, -238.984, -238.92 , ...,  962.744,  962.808,  962.872]),\n",
       " array([ 0.012538, -0.036269, -0.050858, ...,  0.02172 , -0.02337 ,\n",
       "        -0.00779 ]),\n",
       " array([0.030298, 0.034002, 0.034598, ..., 0.026098, 0.029171, 0.024842]),\n",
       " array([-0.071792,  0.001342, -0.084671, ..., -0.008698,  0.001819,\n",
       "        -0.003207]),\n",
       " array([0.030314, 0.040546, 0.04157 , ..., 0.02612 , 0.023903, 0.025492]),\n",
       " array([-0.066674, -0.002637, -0.044492, ...,  0.009755, -0.003813,\n",
       "         0.021917]),\n",
       " array([0.027766, 0.032474, 0.033002, ..., 0.022457, 0.023734, 0.024484]),\n",
       " array([ 0.013389, -0.040508,  0.011501, ...,  0.024683, -0.009308,\n",
       "        -0.011963]),\n",
       " array([0.032609, 0.02913 , 0.032297, ..., 0.019139, 0.021193, 0.017251]))"
      ]
     },
     "execution_count": 6,
     "metadata": {},
     "output_type": "execute_result"
    },
    {
     "data": {
      "image/png": "[encoded data removed]",
      "text/plain": [
       "<Figure size 432x288 with 1 Axes>"
      ]
     },
     "metadata": {
      "needs_background": "light"
     },
     "output_type": "display_data"
    }
   ],
   "source": [
    "GRB_name = 'GRB181126A'\n",
    "plot_LC(GRB_name, 64, -2.5, 10)\n"
   ]
  },
  {
   "cell_type": "code",
   "execution_count": null,
   "metadata": {},
   "outputs": [],
   "source": []
  },
  {
   "cell_type": "code",
   "execution_count": null,
   "metadata": {},
   "outputs": [],
   "source": []
  }
 ],
 "metadata": {
  "kernelspec": {
   "display_name": "Python 3",
   "language": "python",
   "name": "python3"
  },
  "language_info": {
   "codemirror_mode": {
    "name": "ipython",
    "version": 3
   },
   "file_extension": ".py",
   "mimetype": "text/x-python",
   "name": "python",
   "nbconvert_exporter": "python",
   "pygments_lexer": "ipython3",
   "version": "3.8.5"
  }
 },
 "nbformat": 4,
 "nbformat_minor": 4
}
